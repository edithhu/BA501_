{
 "cells": [
  {
   "cell_type": "code",
   "execution_count": 9,
   "metadata": {
    "scrolled": false
   },
   "outputs": [
    {
     "name": "stdout",
     "output_type": "stream",
     "text": [
      "[1 2 3 4 5 6 7 1 4]\n",
      "[1 2 3 4 5 6 7]\n"
     ]
    }
   ],
   "source": [
    "#1. How do you handle duplicate values in a dataset in Python?\n",
    "import numpy as np\n",
    "my_array = np.array([1,2,3,4,5,6,7,1,4])\n",
    "print(my_array)\n",
    "\n",
    "array_nodupe = np.unique(my_array)\n",
    "print (array_nodupe)\n",
    "\n"
   ]
  },
  {
   "cell_type": "code",
   "execution_count": 10,
   "metadata": {},
   "outputs": [
    {
     "name": "stdout",
     "output_type": "stream",
     "text": [
      "   receiver_id  requester_id        time\n",
      "0         3001          1001  2017-07-01\n",
      "1         3002          1002  2017-07-02\n",
      "2         3003          1003  2017-07-03\n",
      "   acceptor_id  requester_id        time\n",
      "0         3001          1001  2017-07-01\n",
      "1         3003          1003  2017-07-04\n"
     ]
    }
   ],
   "source": [
    "#2.You are given two tables - friend_request and request_accepted. \n",
    "#Friend_request contains requester_id, time and sent_to_id and request_accepted table contains time, \n",
    "#acceptor_id and requestor_id. How will you determine the overall acceptance rate of requests? \n",
    "\n",
    "import pandas as pd\n",
    "friend_request = pd.DataFrame(\n",
    "    {\"requester_id\":[1001,1002,1003],\n",
    "     \"time\":[\"2017-07-01\",\"2017-07-02\",\"2017-07-03\"],\n",
    "     \"receiver_id\":[3001,3002,3003]}\n",
    ")\n",
    "\n",
    "request_accepted = pd.DataFrame(\n",
    "    {\"requester_id\":[1001,1003],\n",
    "     \"time\":[\"2017-07-01\",\"2017-07-04\"],\n",
    "     \"acceptor_id\":[3001,3003]}\n",
    ")\n",
    "\n",
    "# i don't know how to deal with the next part"
   ]
  },
  {
   "cell_type": "code",
   "execution_count": null,
   "metadata": {
    "collapsed": true
   },
   "outputs": [],
   "source": []
  },
  {
   "cell_type": "code",
   "execution_count": 30,
   "metadata": {},
   "outputs": [],
   "source": [
    "#3.\n",
    "\n",
    "\n",
    "def issuer_detector(cc):\n",
    "   \n",
    "    if len(cc) == 15 and (cc[0:2]=='34' or cc[0:2]=='37'):\n",
    "        return \"AMEX\"\n",
    "   \n",
    "    if len(cc)==14 and cc[0:2]=='36':\n",
    "        return \"DINERS CLUB\"\n",
    "    \n",
    "    if len(cc)==16 and cc[0:1]=='4':\n",
    "        if cc[0:4] == \"4026\" \\\n",
    "            or cc[0:4] == \"4405\" \\\n",
    "            or cc[0:4] == \"4408\" \\\n",
    "            or cc[0:4] == \"4844\" \\\n",
    "            or cc[0:4] == \"4913\" \\\n",
    "            or cc[0:6] == \"417500\":\n",
    "            return \"VISAELECTRON\"\n",
    "        else:\n",
    "            return \"VISA\"\n",
    "    else:\n",
    "        return \"NA\""
   ]
  },
  {
   "cell_type": "code",
   "execution_count": 29,
   "metadata": {},
   "outputs": [
    {
     "name": "stdout",
     "output_type": "stream",
     "text": [
      "4175004175004172 VISAELECTRON\n",
      "4917491749174917 VISA\n",
      "346416800707698 AMEX\n",
      "376416800707698 AMEX\n",
      "37641680070769832112 NA\n",
      "36641680070769 DINERS CLUB\n",
      "54545641680070769 NA\n"
     ]
    }
   ],
   "source": [
    "\n",
    "my_cc =  [ '4175004175004172' , \n",
    "             '4917491749174917',\n",
    "             '346416800707698',\n",
    "             '376416800707698',\n",
    "             '37641680070769832112',\n",
    "             '36641680070769',\n",
    "             '54545641680070769']\n",
    "\n",
    "for cc in my_cc:\n",
    "    print (cc + \" \" + issuer_detector(cc))"
   ]
  },
  {
   "cell_type": "code",
   "execution_count": null,
   "metadata": {
    "collapsed": true
   },
   "outputs": [],
   "source": []
  }
 ],
 "metadata": {
  "kernelspec": {
   "display_name": "Python 3",
   "language": "python",
   "name": "python3"
  },
  "language_info": {
   "codemirror_mode": {
    "name": "ipython",
    "version": 3
   },
   "file_extension": ".py",
   "mimetype": "text/x-python",
   "name": "python",
   "nbconvert_exporter": "python",
   "pygments_lexer": "ipython3",
   "version": "3.6.3"
  }
 },
 "nbformat": 4,
 "nbformat_minor": 2
}
